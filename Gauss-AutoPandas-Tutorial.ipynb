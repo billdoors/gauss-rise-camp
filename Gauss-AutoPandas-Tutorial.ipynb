{
 "cells": [
  {
   "cell_type": "code",
   "execution_count": 1,
   "metadata": {},
   "outputs": [],
   "source": [
    "import gauss.ui\n",
    "import pandas as pd"
   ]
  },
  {
   "cell_type": "markdown",
   "metadata": {},
   "source": [
    "## About\n",
    "\n",
    "Gauss (AutoPandas 2.0) is a programming-by-example (PbE) system for table transformations in Pandas. PbE systems generally accept plain input-output examples. Prior work for table transformations such as AutoPandas and Morpheus accept input-output tables as examples and synthesize the target program. This has two main flaws - \n",
    "\n",
    "1. Providing a full-output table can be tedious, error-prone, and often defeats the purpose of synthesis, especially in the case of large tables.\n",
    "2. A lot of rich information is thrown away. For example, the type of aggregation being performed, something which is known to the user of the system.\n",
    "\n",
    "Gauss extends the input-output example modality for table transformations, by providing a rich interface to the user to construct **partial outputs** or partial tables, using an array of operators covering simple operations such as addition subtraction. Gauss transparently captures the user interaction and generalizes the partial output to synthesize better code, faster.\n",
    "\n",
    "In this tutorial, you will understand the basics of the interface provided by Gauss, and how you can use it to synthesize code for table transformation tasks that are easy to understand but relatively hard to automate. "
   ]
  },
  {
   "cell_type": "markdown",
   "metadata": {},
   "source": [
    "## Interface Tutorial\n",
    "\n",
    "In this section, we go through the basics of using the tool. By itself, this should not involve any coding on the user's part. We aim to cover the following: \n",
    "\n",
    "1. Familiarize with the interface and its components.\n",
    "2. Understanding and using the partial output editor.\n",
    "3. Interpreting the output of the synthesizer (Gauss)"
   ]
  },
  {
   "cell_type": "markdown",
   "metadata": {},
   "source": [
    "**Step 1** : Let us first create a dataframe upon which we intend to perform transformations. This will serve as the *input* part of the specification"
   ]
  },
  {
   "cell_type": "code",
   "execution_count": 2,
   "metadata": {},
   "outputs": [
    {
     "data": {
      "text/html": [
       "<div>\n",
       "<style scoped>\n",
       "    .dataframe tbody tr th:only-of-type {\n",
       "        vertical-align: middle;\n",
       "    }\n",
       "\n",
       "    .dataframe tbody tr th {\n",
       "        vertical-align: top;\n",
       "    }\n",
       "\n",
       "    .dataframe thead th {\n",
       "        text-align: right;\n",
       "    }\n",
       "</style>\n",
       "<table border=\"1\" class=\"dataframe\">\n",
       "  <thead>\n",
       "    <tr style=\"text-align: right;\">\n",
       "      <th></th>\n",
       "      <th>Type</th>\n",
       "      <th>Low</th>\n",
       "      <th>High</th>\n",
       "    </tr>\n",
       "  </thead>\n",
       "  <tbody>\n",
       "    <tr>\n",
       "      <td>0</td>\n",
       "      <td>Pants</td>\n",
       "      <td>50</td>\n",
       "      <td>70</td>\n",
       "    </tr>\n",
       "    <tr>\n",
       "      <td>1</td>\n",
       "      <td>Pants</td>\n",
       "      <td>100</td>\n",
       "      <td>90</td>\n",
       "    </tr>\n",
       "    <tr>\n",
       "      <td>2</td>\n",
       "      <td>Shirts</td>\n",
       "      <td>80</td>\n",
       "      <td>110</td>\n",
       "    </tr>\n",
       "  </tbody>\n",
       "</table>\n",
       "</div>"
      ],
      "text/plain": [
       "     Type  Low  High\n",
       "0   Pants   50    70\n",
       "1   Pants  100    90\n",
       "2  Shirts   80   110"
      ]
     },
     "execution_count": 2,
     "metadata": {},
     "output_type": "execute_result"
    }
   ],
   "source": [
    "df = pd.DataFrame([[\"Pants\", 50, 70], [\"Pants\", 100, 90], [\"Shirts\", 80, 110]],\n",
    "                 columns=[\"Type\", \"Low\", \"High\"])\n",
    "df"
   ]
  },
  {
   "cell_type": "markdown",
   "metadata": {},
   "source": [
    "**Step 2** : Let us load it into the UI provided by Gauss"
   ]
  },
  {
   "cell_type": "code",
   "execution_count": 3,
   "metadata": {
    "scrolled": false
   },
   "outputs": [
    {
     "data": {
      "application/vnd.jupyter.widget-view+json": {
       "model_id": "bcba0c634bfc4aa1b80513caea32f86b",
       "version_major": 2,
       "version_minor": 0
      },
      "text/plain": [
       "Output()"
      ]
     },
     "metadata": {},
     "output_type": "display_data"
    }
   ],
   "source": [
    "gauss.ui.start_synthesis([df])"
   ]
  },
  {
   "cell_type": "markdown",
   "metadata": {},
   "source": [
    "## Example Tasks"
   ]
  },
  {
   "cell_type": "markdown",
   "metadata": {},
   "source": [
    "#### Example Task #1\n",
    "\n",
    "Given an input table with a column of statistics for each year:\n",
    "```\n",
    "         Metric     Y1      Y2      Y3      Y4      Y5\n",
    "0        means  0.5200  0.5700  0.6000  0.6300  0.6300\n",
    "1       stddev  0.1328  0.1321  0.1303  0.1266  0.1225\n",
    "2  upper_range  0.6600  0.7000  0.7300  0.7500  0.7500\n",
    "3  lower_range  0.3900  0.4400  0.4700  0.5000  0.5100\n",
    "```\n",
    "\n",
    "Transform the table such that it is transposed of sorts. That is, there is a `year` column containing `Y1`, `Y2`, `Y3`, `Y4` and `Y5`, and `means`, `stddev`, `upper_range` and `lower_range` become the new columns. Something along the lines of the following, where blanks represent omitted cells.\n",
    "```\n",
    "      year  lower_range  means  stddev  upper_range\n",
    "0       Y1                                         \n",
    "1       Y2                                         \n",
    "2       Y3                                         \n",
    "3       Y4                                         \n",
    "4       Y5                                         \n",
    "```"
   ]
  },
  {
   "cell_type": "code",
   "execution_count": 4,
   "metadata": {},
   "outputs": [
    {
     "data": {
      "text/html": [
       "<div>\n",
       "<style scoped>\n",
       "    .dataframe tbody tr th:only-of-type {\n",
       "        vertical-align: middle;\n",
       "    }\n",
       "\n",
       "    .dataframe tbody tr th {\n",
       "        vertical-align: top;\n",
       "    }\n",
       "\n",
       "    .dataframe thead th {\n",
       "        text-align: right;\n",
       "    }\n",
       "</style>\n",
       "<table border=\"1\" class=\"dataframe\">\n",
       "  <thead>\n",
       "    <tr style=\"text-align: right;\">\n",
       "      <th></th>\n",
       "      <th>Metric</th>\n",
       "      <th>Y1</th>\n",
       "      <th>Y2</th>\n",
       "      <th>Y3</th>\n",
       "      <th>Y4</th>\n",
       "      <th>Y5</th>\n",
       "    </tr>\n",
       "  </thead>\n",
       "  <tbody>\n",
       "    <tr>\n",
       "      <td>0</td>\n",
       "      <td>means</td>\n",
       "      <td>0.5200</td>\n",
       "      <td>0.5700</td>\n",
       "      <td>0.6000</td>\n",
       "      <td>0.6300</td>\n",
       "      <td>0.6300</td>\n",
       "    </tr>\n",
       "    <tr>\n",
       "      <td>1</td>\n",
       "      <td>stddev</td>\n",
       "      <td>0.1328</td>\n",
       "      <td>0.1321</td>\n",
       "      <td>0.1303</td>\n",
       "      <td>0.1266</td>\n",
       "      <td>0.1225</td>\n",
       "    </tr>\n",
       "    <tr>\n",
       "      <td>2</td>\n",
       "      <td>upper_range</td>\n",
       "      <td>0.6600</td>\n",
       "      <td>0.7000</td>\n",
       "      <td>0.7303</td>\n",
       "      <td>0.7500</td>\n",
       "      <td>0.7500</td>\n",
       "    </tr>\n",
       "    <tr>\n",
       "      <td>3</td>\n",
       "      <td>lower_range</td>\n",
       "      <td>0.3900</td>\n",
       "      <td>0.4400</td>\n",
       "      <td>0.4700</td>\n",
       "      <td>0.5000</td>\n",
       "      <td>0.5100</td>\n",
       "    </tr>\n",
       "  </tbody>\n",
       "</table>\n",
       "</div>"
      ],
      "text/plain": [
       "        Metric      Y1      Y2      Y3      Y4      Y5\n",
       "0        means  0.5200  0.5700  0.6000  0.6300  0.6300\n",
       "1       stddev  0.1328  0.1321  0.1303  0.1266  0.1225\n",
       "2  upper_range  0.6600  0.7000  0.7303  0.7500  0.7500\n",
       "3  lower_range  0.3900  0.4400  0.4700  0.5000  0.5100"
      ]
     },
     "execution_count": 4,
     "metadata": {},
     "output_type": "execute_result"
    }
   ],
   "source": [
    "input_table = pd.DataFrame({\n",
    "    'Metric': ['means', 'stddev', 'upper_range', 'lower_range'], \n",
    "    'Y1': [0.52, 0.1328, 0.66, 0.39],\n",
    "    'Y2': [0.57, 0.1321, 0.7, 0.44], \n",
    "    'Y3': [0.6, 0.1303, 0.7303, 0.4700], \n",
    "    'Y4': [0.63, 0.1266, 0.7500, 0.5000],\n",
    "    'Y5': [0.63, 0.1225, 0.7500, 0.5100]\n",
    "})\n",
    "input_table"
   ]
  },
  {
   "cell_type": "code",
   "execution_count": 5,
   "metadata": {},
   "outputs": [
    {
     "data": {
      "application/vnd.jupyter.widget-view+json": {
       "model_id": "53c88062ed0f4503b79b0d3c43538366",
       "version_major": 2,
       "version_minor": 0
      },
      "text/plain": [
       "Output()"
      ]
     },
     "metadata": {},
     "output_type": "display_data"
    }
   ],
   "source": [
    "gauss.ui.start_synthesis([input_table])"
   ]
  },
  {
   "cell_type": "markdown",
   "metadata": {},
   "source": [
    "#### Example Task #2\n",
    "\n",
    "##### Description\n",
    "\n",
    "Given a table of low and high prices for each product:\n",
    "```\n",
    "    Product  Low  High\n",
    "0     Phone   40    90\n",
    "1        TV   50    80\n",
    "2   Speaker   10    70\n",
    "3  Computer  100   160\n",
    "```\n",
    "Produce a table that gives the price range (difference between low and high price) for each product. That is, something along the lines of the following, where blank lines represent omitted cells.\n",
    "```\n",
    "    Product  Range \n",
    "0     Phone    50\n",
    "1        TV    \n",
    "2   Speaker    \n",
    "3  Computer    \n",
    "```"
   ]
  },
  {
   "cell_type": "code",
   "execution_count": 6,
   "metadata": {},
   "outputs": [
    {
     "data": {
      "text/html": [
       "<div>\n",
       "<style scoped>\n",
       "    .dataframe tbody tr th:only-of-type {\n",
       "        vertical-align: middle;\n",
       "    }\n",
       "\n",
       "    .dataframe tbody tr th {\n",
       "        vertical-align: top;\n",
       "    }\n",
       "\n",
       "    .dataframe thead th {\n",
       "        text-align: right;\n",
       "    }\n",
       "</style>\n",
       "<table border=\"1\" class=\"dataframe\">\n",
       "  <thead>\n",
       "    <tr style=\"text-align: right;\">\n",
       "      <th></th>\n",
       "      <th>Product</th>\n",
       "      <th>Low</th>\n",
       "      <th>High</th>\n",
       "    </tr>\n",
       "  </thead>\n",
       "  <tbody>\n",
       "    <tr>\n",
       "      <td>0</td>\n",
       "      <td>Phone</td>\n",
       "      <td>40</td>\n",
       "      <td>90</td>\n",
       "    </tr>\n",
       "    <tr>\n",
       "      <td>1</td>\n",
       "      <td>TV</td>\n",
       "      <td>50</td>\n",
       "      <td>80</td>\n",
       "    </tr>\n",
       "    <tr>\n",
       "      <td>2</td>\n",
       "      <td>Speaker</td>\n",
       "      <td>10</td>\n",
       "      <td>70</td>\n",
       "    </tr>\n",
       "    <tr>\n",
       "      <td>3</td>\n",
       "      <td>Computer</td>\n",
       "      <td>100</td>\n",
       "      <td>160</td>\n",
       "    </tr>\n",
       "  </tbody>\n",
       "</table>\n",
       "</div>"
      ],
      "text/plain": [
       "    Product  Low  High\n",
       "0     Phone   40    90\n",
       "1        TV   50    80\n",
       "2   Speaker   10    70\n",
       "3  Computer  100   160"
      ]
     },
     "execution_count": 6,
     "metadata": {},
     "output_type": "execute_result"
    }
   ],
   "source": [
    "input_table = pd.DataFrame({\n",
    "    'Product': ['Phone', 'TV', 'Speaker', 'Computer'], \n",
    "    'Low': [40, 50, 10, 100], \n",
    "    'High': [90, 80, 70, 160]\n",
    "})\n",
    "input_table"
   ]
  },
  {
   "cell_type": "code",
   "execution_count": 7,
   "metadata": {},
   "outputs": [
    {
     "data": {
      "application/vnd.jupyter.widget-view+json": {
       "model_id": "c507bebb51484ba1b88650fc0d15d3c7",
       "version_major": 2,
       "version_minor": 0
      },
      "text/plain": [
       "Output()"
      ]
     },
     "metadata": {},
     "output_type": "display_data"
    }
   ],
   "source": [
    "gauss.ui.start_synthesis([input_table])"
   ]
  },
  {
   "cell_type": "markdown",
   "metadata": {},
   "source": [
    "## Practice Tasks"
   ]
  },
  {
   "cell_type": "markdown",
   "metadata": {},
   "source": [
    "#### Practice Task #1\n",
    "\n",
    "##### Description\n",
    "Given an input table with populations for each city in a region:\n",
    "```\n",
    "         Region      City      Population\n",
    "0           foo      bar            10000\n",
    "1           foo      baz            23000\n",
    "2           Hex      Add            27810\n",
    "3           Hex      Dad            35010\n",
    "4           Hex      Fed            40770\n",
    "```\n",
    "Create a table showing the total population for each region, i.e.:\n",
    "```\n",
    "      Region  Population\n",
    "0       foo        33000  \n",
    "1       Hex       103590 \n",
    "```\n",
    "##### Exercise\n",
    "\n",
    "Use Gauss to synthesize a `pandas` program that performs a similar transformation on this input:"
   ]
  },
  {
   "cell_type": "code",
   "execution_count": 8,
   "metadata": {},
   "outputs": [
    {
     "data": {
      "text/html": [
       "<div>\n",
       "<style scoped>\n",
       "    .dataframe tbody tr th:only-of-type {\n",
       "        vertical-align: middle;\n",
       "    }\n",
       "\n",
       "    .dataframe tbody tr th {\n",
       "        vertical-align: top;\n",
       "    }\n",
       "\n",
       "    .dataframe thead th {\n",
       "        text-align: right;\n",
       "    }\n",
       "</style>\n",
       "<table border=\"1\" class=\"dataframe\">\n",
       "  <thead>\n",
       "    <tr style=\"text-align: right;\">\n",
       "      <th></th>\n",
       "      <th>Region</th>\n",
       "      <th>City</th>\n",
       "      <th>Population</th>\n",
       "    </tr>\n",
       "  </thead>\n",
       "  <tbody>\n",
       "    <tr>\n",
       "      <td>0</td>\n",
       "      <td>Misthalin</td>\n",
       "      <td>Lumbdridge</td>\n",
       "      <td>72</td>\n",
       "    </tr>\n",
       "    <tr>\n",
       "      <td>1</td>\n",
       "      <td>Kandarin</td>\n",
       "      <td>Ardougne</td>\n",
       "      <td>950</td>\n",
       "    </tr>\n",
       "    <tr>\n",
       "      <td>2</td>\n",
       "      <td>Kandarin</td>\n",
       "      <td>Catherby</td>\n",
       "      <td>32</td>\n",
       "    </tr>\n",
       "    <tr>\n",
       "      <td>3</td>\n",
       "      <td>Misthalin</td>\n",
       "      <td>Varrock</td>\n",
       "      <td>1744</td>\n",
       "    </tr>\n",
       "    <tr>\n",
       "      <td>4</td>\n",
       "      <td>Misthalin</td>\n",
       "      <td>Draynor Village</td>\n",
       "      <td>29</td>\n",
       "    </tr>\n",
       "  </tbody>\n",
       "</table>\n",
       "</div>"
      ],
      "text/plain": [
       "      Region             City  Population\n",
       "0  Misthalin       Lumbdridge          72\n",
       "1   Kandarin         Ardougne         950\n",
       "2   Kandarin         Catherby          32\n",
       "3  Misthalin          Varrock        1744\n",
       "4  Misthalin  Draynor Village          29"
      ]
     },
     "execution_count": 8,
     "metadata": {},
     "output_type": "execute_result"
    }
   ],
   "source": [
    "input_table = pd.DataFrame({'Region': ['Misthalin', 'Kandarin', 'Kandarin', 'Misthalin', 'Misthalin'], 'City': ['Lumbdridge', 'Ardougne', 'Catherby', 'Varrock', 'Draynor Village'],\n",
    "             'Population': [72, 950, 32, 1744, 29]})\n",
    "input_table"
   ]
  },
  {
   "cell_type": "code",
   "execution_count": 9,
   "metadata": {},
   "outputs": [
    {
     "data": {
      "application/vnd.jupyter.widget-view+json": {
       "model_id": "4f50d135aa164d65a4ecf38914690b67",
       "version_major": 2,
       "version_minor": 0
      },
      "text/plain": [
       "Output()"
      ]
     },
     "metadata": {},
     "output_type": "display_data"
    }
   ],
   "source": [
    "gauss.ui.start_synthesis([input_table])"
   ]
  },
  {
   "cell_type": "code",
   "execution_count": null,
   "metadata": {},
   "outputs": [],
   "source": []
  }
 ],
 "metadata": {
  "kernelspec": {
   "display_name": "Python 3",
   "language": "python",
   "name": "python3"
  },
  "language_info": {
   "codemirror_mode": {
    "name": "ipython",
    "version": 3
   },
   "file_extension": ".py",
   "mimetype": "text/x-python",
   "name": "python",
   "nbconvert_exporter": "python",
   "pygments_lexer": "ipython3",
   "version": "3.7.4"
  }
 },
 "nbformat": 4,
 "nbformat_minor": 2
}
