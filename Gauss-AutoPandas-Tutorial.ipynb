{
 "cells": [
  {
   "cell_type": "markdown",
   "metadata": {},
   "source": [
    "## Initial Setup\n",
    "\n",
    "This may take a few minutes. We recommend to start the execution of the following cell and then perusing through the description and documentation below."
   ]
  },
  {
   "cell_type": "code",
   "execution_count": null,
   "metadata": {},
   "outputs": [],
   "source": [
    "import pandas as pd\n",
    "import numpy as np\n",
    "import gauss.engines\n",
    "import gauss.ui\n",
    "import tutorial.hints\n",
    "\n",
    "engine = gauss.engines.create_pandas_lite_engine()"
   ]
  },
  {
   "cell_type": "markdown",
   "metadata": {},
   "source": [
    "# About\n",
    "\n",
    "Gauss (AutoPandas 2.0) is a programming-by-example (PbE) system for table transformations in Pandas. PbE systems generally accept plain input-output examples. Prior work for table transformations such as AutoPandas and Morpheus accept input-output tables as examples and synthesize the target program. This has two main flaws - \n",
    "\n",
    "1. Providing a full-output table can be tedious, error-prone, and often defeats the purpose of synthesis, especially in the case of large tables.\n",
    "2. A lot of rich information is thrown away. For example, the type of aggregation being performed, something which is known to the user of the system.\n",
    "\n",
    "Gauss extends the input-output example modality for table transformations, by providing a rich interface to the user to construct **partial outputs** or partial tables, using an array of operators covering simple operations such as addition subtraction. Gauss transparently captures the user interaction and generalizes the partial output to synthesize better code, faster.\n",
    "\n",
    "In this tutorial, you will understand the basics of the interface provided by Gauss, and how you can use it to synthesize code for table transformation tasks that are easy to understand but relatively hard to automate.\n",
    "\n",
    "\n",
    "## Feedback\n",
    "This tool is in an alpha stage therefore any feedback regarding usability or bug reports would be very welcome! Please reach out to any member of the team:\n",
    "\n",
    "- Rohan Bavishi (rbavishi@cs.berkeley.edu)\n",
    "- Caroline Lemieux (clemieux@cs.berkeley.edu)\n",
    "\n",
    "## Acknowledgements\n",
    "The grid UI used by Gauss/AutoPandas is powered by [ag-Grid](https://www.ag-grid.com) under the Trial License. Some of the instructions below are courtesy of the documentation of ag-Grid."
   ]
  },
  {
   "cell_type": "markdown",
   "metadata": {},
   "source": [
    "# Introduction to the Interface"
   ]
  },
  {
   "cell_type": "markdown",
   "metadata": {},
   "source": [
    "## Anatomy of the Interface\n",
    "\n",
    "<img src=\"imgs/GaussUI.png\" width=\"70%\" height=\"70%\">"
   ]
  },
  {
   "cell_type": "markdown",
   "metadata": {},
   "source": [
    "## Basic Controls\n",
    "\n",
    "For all the instructions below, if you are on a Windows system, replace ⌘(Cmd) key with (Ctrl)."
   ]
  },
  {
   "cell_type": "markdown",
   "metadata": {},
   "source": [
    "### Cell Selection\n",
    "\n",
    "* **Single Cell** - Clicking on a cell selects it. Clicking it again will de-select it.\n",
    "* **Multiple Cells** - There are two distinct ways of selecting multiple cells:\n",
    "    - **Mouse Drag**: Click the mouse down on a cell and drag and release the mouse over another cell. A continuous 2-D range will be created between the two cells and clear any existing ranges.\n",
    "    - **⌘(Cmd) + Mouse Drag**: Holding ⌘(Cmd) key while creating a range using mouse drag will create a new range selection and keep any existing ranges. This is useful for selecting cells not adjacent to each other. It also imposes an order of selection which is useful for some binary operations.\n",
    "    \n",
    "<table style=\"width:80%\">\n",
    "    <tr>\n",
    "        <td>\n",
    "            <figure>\n",
    "                <img src=\"gifs/Simple-Selection.gif\" class=\"images\">\n",
    "                <figcaption style=\"text-align: center; font-size: large\">Selecting Single Cell</figcaption>\n",
    "            </figure>\n",
    "        </td>\n",
    "        <td>\n",
    "            <figure>\n",
    "                <img src=\"gifs/Range-Select.gif\" class=\"images\">\n",
    "                <figcaption style=\"text-align: center; font-size: large\">Selecting Cell Ranges</figcaption>\n",
    "            </figure>\n",
    "        </td>\n",
    "        <td>\n",
    "            <figure>\n",
    "                <img src=\"gifs/Multiple-Range-Select.gif\" class=\"images\">\n",
    "                <figcaption style=\"text-align: center; font-size: large\">Selecting Multiple Cell Ranges</figcaption>\n",
    "            </figure>\n",
    "        </td>\n",
    "    </tr>\n",
    "</table>"
   ]
  },
  {
   "cell_type": "markdown",
   "metadata": {},
   "source": [
    "### Copy-Pasting\n",
    "\n",
    "In general you can only copy and paste from the input to the output. The number of cells being pasted to should match the copied content on the clipboard. So the system will complain if, say, 4 values are being pasted onto 3 cells. The following instructions assume the correct number of cells have been copied to the clipboard.\n",
    "\n",
    "* **Single Cell** - Select a cell in the output, and press ⌘(Cmd)-V to paste the value.\n",
    "* **Multiple Cells** - There are two distinct ways of pasting multiple cells:\n",
    "    - **Specify All Cells**: Select the right number of cells, in the desired order if necessary (by holding ⌘(Cmd) and clicking cells), and press ⌘(Cmd)-V to paste the values.\n",
    "    - **Specify Start Cell**: If a single cell is selected, the system pastes all the values starting from that cell with the shape determined as follows:\n",
    "        - If the copied content is a continuous 2-D range, the shape is retained.\n",
    "        - The cells are pasted in a single vertical column.\n",
    "* When pasting multiple cells, the order of selection of cells matter. The first value is copied to the first cell selected, the second value to the second cell...\n",
    "\n",
    "<table style=\"width:80%\">\n",
    "    <tr>\n",
    "        <td>\n",
    "            <figure>\n",
    "                <img src=\"gifs/Simple-Copy-Paste.gif\" class=\"images\">\n",
    "                <figcaption style=\"text-align: center; font-size: large\">Copy-Paste Single Cell</figcaption>\n",
    "            </figure>\n",
    "        </td>\n",
    "        <td>\n",
    "            <figure>\n",
    "                <img src=\"gifs/Multiple-Copy-Paste.gif\" class=\"images\">\n",
    "                <figcaption style=\"text-align: center; font-size: large\">Copy-Paste Multiple Cells</figcaption>\n",
    "            </figure>\n",
    "        </td>\n",
    "        <td>\n",
    "            <figure>\n",
    "                <img src=\"gifs/Copy-Paste-Order-Matters.gif\" class=\"images\">\n",
    "                <figcaption style=\"text-align: center; font-size: large\">Selection Order Matters</figcaption>\n",
    "            </figure>\n",
    "        </td>\n",
    "    </tr>\n",
    "</table>"
   ]
  },
  {
   "cell_type": "markdown",
   "metadata": {},
   "source": [
    "### Performing Operations\n",
    "\n",
    "The steps for performing operations such as aggregations, transformations, binary operations, string operations, filtering and deletion are as follows - \n",
    "* Select the target cells using the cell-selection mechanism above.\n",
    "* Press right-click to access the context menu.\n",
    "* Operations are bucketed in various categories. Select the one you want by accessing the appropriate category.\n",
    "    - Hovering over an operation will activate a tooltip describing the operation.\n",
    "* Once the operation is clicked, the result is stored into the clipboard.\n",
    "* The result(s) can be pasted into the output using the same pasting mechanism described above.\n",
    "\n",
    "<table style=\"width:100%\">\n",
    "    <tr>\n",
    "        <td>\n",
    "            <figure>\n",
    "                <img src=\"gifs/Simple-Mean-Operation.gif\" class=\"images\">\n",
    "                <figcaption style=\"text-align: center; font-size: large\">Aggregation</figcaption>\n",
    "            </figure>\n",
    "        </td>\n",
    "        <td>\n",
    "            <figure>\n",
    "                <img src=\"gifs/Binary-Operations.gif\" class=\"images\">\n",
    "                <figcaption style=\"text-align: center; font-size: large\">Binary Operations</figcaption>\n",
    "            </figure>\n",
    "        </td>\n",
    "        <td>\n",
    "            <figure>\n",
    "                <img src=\"gifs/Cell-Deletion-Operation.gif\" class=\"images\">\n",
    "                <figcaption style=\"text-align: center; font-size: large\">Marking Cells for Deletion</figcaption>\n",
    "            </figure>\n",
    "        </td>\n",
    "    </tr>\n",
    "</table>"
   ]
  },
  {
   "cell_type": "markdown",
   "metadata": {},
   "source": [
    "## Interface Playground\n",
    "\n",
    "In this part, we use the dummy task below to explore the concepts introduced above."
   ]
  },
  {
   "cell_type": "markdown",
   "metadata": {},
   "source": [
    "**Step 1** : Let us first create a dataframe upon which we intend to perform transformations. This will serve as the input table."
   ]
  },
  {
   "cell_type": "code",
   "execution_count": null,
   "metadata": {},
   "outputs": [],
   "source": [
    "df = pd.DataFrame([[\"Pants\", 50, 70], [\"Pants\", 100, 90], [\"Shirts\", 80, 110]],\n",
    "                 columns=[\"Type\", \"Low\", \"High\"])\n",
    "df"
   ]
  },
  {
   "cell_type": "markdown",
   "metadata": {},
   "source": [
    "**Step 2** : Let us load it into the UI provided by Gauss"
   ]
  },
  {
   "cell_type": "code",
   "execution_count": null,
   "metadata": {
    "scrolled": false
   },
   "outputs": [],
   "source": [
    "gauss.ui.start_synthesis([df], engine=engine)"
   ]
  },
  {
   "cell_type": "markdown",
   "metadata": {},
   "source": [
    "## Demonstrations"
   ]
  },
  {
   "cell_type": "markdown",
   "metadata": {},
   "source": [
    "### Task #1\n",
    "\n",
    "##### Description\n",
    "Given an input table with populations for each city in a region:\n",
    "```\n",
    "   Region             City  Population\n",
    "Misthalin       Lumbdridge          72\n",
    " Kandarin         Ardougne         950\n",
    " Kandarin         Catherby          32\n",
    "Misthalin          Varrock        1744\n",
    "Misthalin  Draynor Village          29\n",
    "```\n",
    "Use Gauss to write code to produce a table showing the total population for each region, i.e.:\n",
    "```\n",
    "      Region  Population\n",
    "    Kandarin         982\n",
    "         ...         ...\n",
    "\n",
    "```"
   ]
  },
  {
   "cell_type": "code",
   "execution_count": null,
   "metadata": {},
   "outputs": [],
   "source": [
    "input_table = pd.DataFrame({'Region': ['Misthalin', 'Kandarin', 'Kandarin', 'Misthalin', 'Misthalin'], \n",
    "                            'City': ['Lumbdridge', 'Ardougne', 'Catherby', 'Varrock', 'Draynor Village'],\n",
    "                            'Population': [72, 950, 32, 1744, 29]})\n",
    "input_table"
   ]
  },
  {
   "cell_type": "code",
   "execution_count": null,
   "metadata": {},
   "outputs": [],
   "source": [
    "gauss.ui.start_synthesis([input_table], engine=engine)\n",
    "tutorial.hints.setup('demo-1')"
   ]
  },
  {
   "cell_type": "markdown",
   "metadata": {},
   "source": [
    "### Task #2\n",
    "\n",
    "##### Description\n",
    "\n",
    "Given a table of low and high prices for each product:\n",
    "```\n",
    " Product  Low  High\n",
    "   Phone   40    90\n",
    "      TV   50    80\n",
    " Speaker   10    70\n",
    "Computer  100   160\n",
    "```\n",
    "Produce a table that gives the price range (difference between low and high price) for each product. That is, something along the lines of the following, where blank lines represent omitted cells. The output should *NOT* contain the `Low` and `High` columns\n",
    "```\n",
    "Product Range \n",
    "  Phone    50\n",
    "    ...   ...  \n",
    "```"
   ]
  },
  {
   "cell_type": "code",
   "execution_count": null,
   "metadata": {},
   "outputs": [],
   "source": [
    "input_table = pd.DataFrame({\n",
    "    'Product': ['Phone', 'TV', 'Speaker', 'Computer'], \n",
    "    'Low': [40, 50, 10, 100], \n",
    "    'High': [90, 80, 70, 160]\n",
    "})\n",
    "input_table"
   ]
  },
  {
   "cell_type": "code",
   "execution_count": null,
   "metadata": {},
   "outputs": [],
   "source": [
    "gauss.ui.start_synthesis([input_table], engine=engine)\n",
    "tutorial.hints.setup('demo-2')"
   ]
  },
  {
   "cell_type": "markdown",
   "metadata": {},
   "source": [
    "## Practice Exercises"
   ]
  },
  {
   "cell_type": "markdown",
   "metadata": {},
   "source": [
    "### Exercise #1\n",
    "\n",
    "Given an input table with a column of statistics for each year:\n",
    "```\n",
    "     Metric      Y1      Y2      Y3  \n",
    "      means  0.5200  0.5700  0.6000\n",
    "     stddev  0.1328  0.1321  0.1303\n",
    "upper_range  0.6600  0.7000  0.7300\n",
    "lower_range  0.3900  0.4400  0.4700\n",
    "```\n",
    "\n",
    "Use Gauss to produce code that transforms the table such that there is a `year` column containing `Y1`, `Y2`, and `Y3`, and `means`, `stddev`, `upper_range`, and `lower_range` become the new columns. Something along the lines of the following, where blanks represent omitted cells. You can think of this as a transpose, but not quite.\n",
    "```\n",
    "     year  lower_range  means  stddev  upper_range\n",
    "       Y1                                         \n",
    "       Y2                                         \n",
    "       Y3                                                                                \n",
    "```"
   ]
  },
  {
   "cell_type": "code",
   "execution_count": null,
   "metadata": {},
   "outputs": [],
   "source": [
    "input_table = pd.DataFrame({\n",
    "    'Metric': ['means', 'stddev', 'upper_range', 'lower_range'], \n",
    "    'Y1': [0.52, 0.1328, 0.66, 0.39],\n",
    "    'Y2': [0.57, 0.1321, 0.7, 0.44], \n",
    "    'Y3': [0.6, 0.1303, 0.7303, 0.4700], \n",
    "})\n",
    "input_table"
   ]
  },
  {
   "cell_type": "code",
   "execution_count": null,
   "metadata": {},
   "outputs": [],
   "source": [
    "gauss.ui.start_synthesis([input_table], engine=engine)\n",
    "tutorial.hints.setup('ex-1')"
   ]
  },
  {
   "cell_type": "markdown",
   "metadata": {},
   "source": [
    "### Exercise #2\n",
    "\n",
    "Given an input table containing some measurements for plants as follows:\n",
    "```\n",
    "  Plant  Day1_Week1  Day7_Week1  Day1_Week2  Day7_Week2\n",
    "  Snake          10          40          50          45\n",
    "   Jade          20          15          25          30\n",
    "  Pilea          30          25          35          45\n",
    "```\n",
    "\n",
    "Use Gauss to write code that produces a table where the days are stacked in one column, and the weeks are stacked in another column as follows:\n",
    "\n",
    "```\n",
    " Plant \n",
    " Snake  Day1  Week1  10\n",
    " Snake  Day7  Week2  50\n",
    " Snake  Day1  Week1  40\n",
    " Snake  Day7  Week2  45\n",
    "   ...   ...    ...\n",
    "```\n",
    "\n",
    "**NOTE**: It is okay if the rows are ordered differently. Gauss currently ignores ordering of columns and rows.\n",
    "\n",
    "**HINT**: You will have to the `STR_SPLIT` operation under the string operations bucket."
   ]
  },
  {
   "cell_type": "code",
   "execution_count": null,
   "metadata": {},
   "outputs": [],
   "source": [
    "input_table = pd.DataFrame({\n",
    "    'Plant': ['Snake', 'Jade', 'Pilea'],\n",
    "    'Day1_Week1': [10, 20, 30],\n",
    "    'Day7_Week1': [40, 15, 25],\n",
    "    'Day1_Week2': [50, 25, 35],\n",
    "    'Day7_Week2': [45, 30, 45],\n",
    "})\n",
    "input_table"
   ]
  },
  {
   "cell_type": "code",
   "execution_count": null,
   "metadata": {},
   "outputs": [],
   "source": [
    "gauss.ui.start_synthesis([input_table], engine=engine)\n",
    "tutorial.hints.setup('ex-2')"
   ]
  }
 ],
 "metadata": {
  "kernelspec": {
   "display_name": "Python 3",
   "language": "python",
   "name": "python3"
  },
  "language_info": {
   "codemirror_mode": {
    "name": "ipython",
    "version": 3
   },
   "file_extension": ".py",
   "mimetype": "text/x-python",
   "name": "python",
   "nbconvert_exporter": "python",
   "pygments_lexer": "ipython3",
   "version": "3.7.4"
  }
 },
 "nbformat": 4,
 "nbformat_minor": 2
}
