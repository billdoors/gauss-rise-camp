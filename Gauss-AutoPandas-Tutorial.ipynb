{
 "cells": [
  {
   "cell_type": "markdown",
   "metadata": {},
   "source": [
    "## Initial Setup\n",
    "\n",
    "This may take a few minutes."
   ]
  },
  {
   "cell_type": "code",
   "execution_count": null,
   "metadata": {},
   "outputs": [],
   "source": [
    "import pandas as pd\n",
    "import numpy as np\n",
    "import gauss.engines\n",
    "import gauss.ui\n",
    "\n",
    "engine = gauss.engines.create_pandas_lite_engine()"
   ]
  },
  {
   "cell_type": "markdown",
   "metadata": {},
   "source": [
    "## About\n",
    "\n",
    "Gauss (AutoPandas 2.0) is a programming-by-example (PbE) system for table transformations in Pandas. PbE systems generally accept plain input-output examples. Prior work for table transformations such as AutoPandas and Morpheus accept input-output tables as examples and synthesize the target program. This has two main flaws - \n",
    "\n",
    "1. Providing a full-output table can be tedious, error-prone, and often defeats the purpose of synthesis, especially in the case of large tables.\n",
    "2. A lot of rich information is thrown away. For example, the type of aggregation being performed, something which is known to the user of the system.\n",
    "\n",
    "Gauss extends the input-output example modality for table transformations, by providing a rich interface to the user to construct **partial outputs** or partial tables, using an array of operators covering simple operations such as addition subtraction. Gauss transparently captures the user interaction and generalizes the partial output to synthesize better code, faster.\n",
    "\n",
    "In this tutorial, you will understand the basics of the interface provided by Gauss, and how you can use it to synthesize code for table transformation tasks that are easy to understand but relatively hard to automate. "
   ]
  },
  {
   "cell_type": "markdown",
   "metadata": {},
   "source": [
    "## Interface Tutorial\n",
    "\n",
    "In this section, we go through the basics of using the tool. By itself, this should not involve any coding on the user's part. We aim to cover the following: \n",
    "\n",
    "1. Familiarize with the interface and its components.\n",
    "2. Understanding and using the partial output editor.\n",
    "3. Interpreting the output of the synthesizer (Gauss)"
   ]
  },
  {
   "cell_type": "markdown",
   "metadata": {},
   "source": [
    "**Step 1** : Let us first create a dataframe upon which we intend to perform transformations. This will serve as the *input* part of the specification"
   ]
  },
  {
   "cell_type": "code",
   "execution_count": null,
   "metadata": {},
   "outputs": [],
   "source": [
    "df = pd.DataFrame([[\"Pants\", 50, 70], [\"Pants\", 100, 90], [\"Shirts\", 80, 110]],\n",
    "                 columns=[\"Type\", \"Low\", \"High\"])\n",
    "df"
   ]
  },
  {
   "cell_type": "markdown",
   "metadata": {},
   "source": [
    "**Step 2** : Let us load it into the UI provided by Gauss"
   ]
  },
  {
   "cell_type": "code",
   "execution_count": null,
   "metadata": {
    "scrolled": false
   },
   "outputs": [],
   "source": [
    "gauss.ui.start_synthesis([df], engine=engine)"
   ]
  },
  {
   "cell_type": "markdown",
   "metadata": {},
   "source": [
    "## Example Tasks"
   ]
  },
  {
   "cell_type": "markdown",
   "metadata": {},
   "source": [
    "#### Example Task #1\n",
    "\n",
    "Given an input table with a column of statistics for each year:\n",
    "```\n",
    "         Metric     Y1      Y2      Y3      Y4      Y5\n",
    "0        means  0.5200  0.5700  0.6000  0.6300  0.6300\n",
    "1       stddev  0.1328  0.1321  0.1303  0.1266  0.1225\n",
    "2  upper_range  0.6600  0.7000  0.7300  0.7500  0.7500\n",
    "3  lower_range  0.3900  0.4400  0.4700  0.5000  0.5100\n",
    "```\n",
    "\n",
    "Transform the table such that it is transposed of sorts. That is, there is a `year` column containing `Y1`, `Y2`, `Y3`, `Y4` and `Y5`, and `means`, `stddev`, `upper_range` and `lower_range` become the new columns. Something along the lines of the following, where blanks represent omitted cells.\n",
    "```\n",
    "      year  lower_range  means  stddev  upper_range\n",
    "0       Y1                                         \n",
    "1       Y2                                         \n",
    "2       Y3                                         \n",
    "3       Y4                                         \n",
    "4       Y5                                         \n",
    "```"
   ]
  },
  {
   "cell_type": "code",
   "execution_count": null,
   "metadata": {},
   "outputs": [],
   "source": [
    "input_table = pd.DataFrame({\n",
    "    'Metric': ['means', 'stddev', 'upper_range', 'lower_range'], \n",
    "    'Y1': [0.52, 0.1328, 0.66, 0.39],\n",
    "    'Y2': [0.57, 0.1321, 0.7, 0.44], \n",
    "    'Y3': [0.6, 0.1303, 0.7303, 0.4700], \n",
    "    'Y4': [0.63, 0.1266, 0.7500, 0.5000],\n",
    "    'Y5': [0.63, 0.1225, 0.7500, 0.5100]\n",
    "})\n",
    "input_table"
   ]
  },
  {
   "cell_type": "code",
   "execution_count": null,
   "metadata": {},
   "outputs": [],
   "source": [
    "gauss.ui.start_synthesis([input_table], engine=engine)"
   ]
  },
  {
   "cell_type": "markdown",
   "metadata": {},
   "source": [
    "#### Example Task #2\n",
    "\n",
    "##### Description\n",
    "\n",
    "Given a table of low and high prices for each product:\n",
    "```\n",
    "    Product  Low  High\n",
    "0     Phone   40    90\n",
    "1        TV   50    80\n",
    "2   Speaker   10    70\n",
    "3  Computer  100   160\n",
    "```\n",
    "Produce a table that gives the price range (difference between low and high price) for each product. That is, something along the lines of the following, where blank lines represent omitted cells.\n",
    "```\n",
    "    Product  Range \n",
    "0     Phone    50\n",
    "1        TV    \n",
    "2   Speaker    \n",
    "3  Computer    \n",
    "```"
   ]
  },
  {
   "cell_type": "code",
   "execution_count": null,
   "metadata": {},
   "outputs": [],
   "source": [
    "input_table = pd.DataFrame({\n",
    "    'Product': ['Phone', 'TV', 'Speaker', 'Computer'], \n",
    "    'Low': [40, 50, 10, 100], \n",
    "    'High': [90, 80, 70, 160]\n",
    "})\n",
    "input_table"
   ]
  },
  {
   "cell_type": "code",
   "execution_count": null,
   "metadata": {},
   "outputs": [],
   "source": [
    "gauss.ui.start_synthesis([input_table], engine=engine)"
   ]
  },
  {
   "cell_type": "markdown",
   "metadata": {},
   "source": [
    "## Practice Tasks"
   ]
  },
  {
   "cell_type": "markdown",
   "metadata": {},
   "source": [
    "#### Practice Task #1\n",
    "\n",
    "##### Description\n",
    "Given an input table with populations for each city in a region:\n",
    "```\n",
    "         Region      City      Population\n",
    "0           foo      bar            10000\n",
    "1           foo      baz            23000\n",
    "2           Hex      Add            27810\n",
    "3           Hex      Dad            35010\n",
    "4           Hex      Fed            40770\n",
    "```\n",
    "Create a table showing the total population for each region, i.e.:\n",
    "```\n",
    "      Region  Population\n",
    "0       foo        33000  \n",
    "1       Hex       103590 \n",
    "```\n",
    "##### Exercise\n",
    "\n",
    "Use Gauss to synthesize a `pandas` program that performs a similar transformation on this input:"
   ]
  },
  {
   "cell_type": "code",
   "execution_count": null,
   "metadata": {},
   "outputs": [],
   "source": [
    "input_table = pd.DataFrame({'Region': ['Misthalin', 'Kandarin', 'Kandarin', 'Misthalin', 'Misthalin'], 'City': ['Lumbdridge', 'Ardougne', 'Catherby', 'Varrock', 'Draynor Village'],\n",
    "             'Population': [72, 950, 32, 1744, 29]})\n",
    "input_table"
   ]
  },
  {
   "cell_type": "code",
   "execution_count": null,
   "metadata": {},
   "outputs": [],
   "source": [
    "gauss.ui.start_synthesis([input_table], engine=engine)"
   ]
  }
 ],
 "metadata": {
  "kernelspec": {
   "display_name": "Python 3",
   "language": "python",
   "name": "python3"
  },
  "language_info": {
   "codemirror_mode": {
    "name": "ipython",
    "version": 3
   },
   "file_extension": ".py",
   "mimetype": "text/x-python",
   "name": "python",
   "nbconvert_exporter": "python",
   "pygments_lexer": "ipython3",
   "version": "3.7.4"
  }
 },
 "nbformat": 4,
 "nbformat_minor": 2
}
